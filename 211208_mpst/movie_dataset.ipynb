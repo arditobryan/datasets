{
 "cells": [
  {
   "cell_type": "code",
   "execution_count": null,
   "metadata": {},
   "outputs": [],
   "source": [
    "df_ = df[['title', 'plot_synopsis']][0:10]\n",
    "df_ = df_.reset_index()\n",
    "df_.columns = ['_id', 'title', 'plot_synopsis']\n",
    "df_=df_.to_dict(orient='records')\n",
    "df_"
   ]
  },
  {
   "cell_type": "code",
   "execution_count": null,
   "metadata": {},
   "outputs": [],
   "source": [
    "#encode df directly to json\n",
    "from vectorhub.encoders.text.sentence_transformers import SentenceTransformer2Vec\n",
    "model = SentenceTransformer2Vec(\"bert-base-uncased\")\n",
    "df_json = model.encode_documents(documents=json_files[0:1000], fields=['product_name'])\n",
    "df_json"
   ]
  },
  {
   "cell_type": "markdown",
   "metadata": {},
   "source": [
    "## upload to relevanceai"
   ]
  },
  {
   "cell_type": "code",
   "execution_count": 1,
   "metadata": {},
   "outputs": [],
   "source": [
    "import relevanceai\n",
    "\n",
    "#ea126145236030e36199:VDl2U2pIMEJ0TS1TY20ycEo3MzY6dHhDYklfeEVTNnUwRHNzaXBMTDhrdw NEW ID\n",
    "project = \"michelangioloma\"\n",
    "api_key = \"TDFvdm9Yd0J1M3VVTEcyQTV3VWs6b3RnRXJnUW9SQ2kwMVVJWVZ2VzVtZw\"\n",
    "client = relevanceai.Client(project, api_key)"
   ]
  },
  {
   "cell_type": "code",
   "execution_count": null,
   "metadata": {},
   "outputs": [],
   "source": [
    "#encoded df to json for uploading\n",
    "import pandas as pd\n",
    "\n",
    "df_movies = pd.read_csv('datasets/mpst_drop_encoded.csv')\n",
    "df_movies\n",
    "\n",
    "list1 = list()\n",
    "for index in range(len(df_movies['title'])):\n",
    "    if index % 100 == 0:\n",
    "        print(index)\n",
    "    dict1 = dict()\n",
    "    title = df_movies['title'].iloc[index]\n",
    "    vectors = list(df_movies.drop('title', axis=1).values[index])\n",
    "    dict1['_id'] = index\n",
    "    dict1['title'] = title\n",
    "    dict1['movie_transformers_vector_'] = vectors\n",
    "    list1.append(dict1)\n",
    "list1\n",
    "\n",
    "client.datasets.bulk_insert(dataset_id='mpst_movie_dataset', documents=list1)"
   ]
  },
  {
   "cell_type": "code",
   "execution_count": null,
   "metadata": {},
   "outputs": [],
   "source": [
    "client.datasets.schema('mpst_movie_dataset')"
   ]
  },
  {
   "cell_type": "markdown",
   "metadata": {},
   "source": [
    "## movie recommender"
   ]
  },
  {
   "cell_type": "code",
   "execution_count": null,
   "metadata": {},
   "outputs": [],
   "source": [
    "import relevanceai\n",
    "\n",
    "connection = relevanceai.api.endpoints.search.Search(\"ea126145236030e36199\", 'VDl2U2pIMEJ0TS1TY20ycEo3MzY6dHhDYklfeEVTNnUwRHNzaXBMTDhrdw')"
   ]
  },
  {
   "cell_type": "code",
   "execution_count": null,
   "metadata": {},
   "outputs": [],
   "source": [
    "response = connection.traditional(\n",
    "    'mpst_movie_dataset',\n",
    "    text='...tick... tick... tick..',\n",
    "    fields=['title'],\n",
    "    include_vector=True\n",
    ")\n",
    "response"
   ]
  },
  {
   "cell_type": "code",
   "execution_count": null,
   "metadata": {},
   "outputs": [],
   "source": [
    "response = connection.vector(\n",
    "    'mpst_movie_dataset',\n",
    "    multivector_query=[\n",
    "            {\"vector\": list1[0]['movie_transformers_vector_'], \"fields\": ['movie_transformers_vector_']}\n",
    "    ]\n",
    ")\n",
    "response"
   ]
  },
  {
   "cell_type": "code",
   "execution_count": null,
   "metadata": {},
   "outputs": [],
   "source": [
    "#I input a string present in the dataset, API finds the closest match, then returns a nns\n",
    "def recommend_movies(str1):\n",
    "    response_trad = connection.traditional(\n",
    "        'mpst_movie_dataset',\n",
    "        text=str1,\n",
    "        fields=['title'],\n",
    "        include_vector=True\n",
    "    )\n",
    "\n",
    "    response_vect = connection.vector(\n",
    "        'mpst_movie_dataset',\n",
    "        multivector_query=[\n",
    "                {\"vector\": response_trad['results'][0]['movie_transformers_vector_'], \"fields\": ['movie_transformers_vector_']}\n",
    "        ],\n",
    "        page_size=3\n",
    "    )\n",
    "\n",
    "    for recc in response_vect['results'][1:]:\n",
    "        print(recc['title'])\n",
    "\n",
    "recommend_movies('...tick... tick... tick..')"
   ]
  }
 ],
 "metadata": {
  "interpreter": {
   "hash": "75a300ae82dd7b8f387c1777b66b2ec8c7a5f6d51d6392630ee9b10fab7f95f8"
  },
  "kernelspec": {
   "display_name": "Python 3.9.0 64-bit",
   "language": "python",
   "name": "python3"
  },
  "language_info": {
   "codemirror_mode": {
    "name": "ipython",
    "version": 3
   },
   "file_extension": ".py",
   "mimetype": "text/x-python",
   "name": "python",
   "nbconvert_exporter": "python",
   "pygments_lexer": "ipython3",
   "version": "3.9.0"
  },
  "orig_nbformat": 4
 },
 "nbformat": 4,
 "nbformat_minor": 2
}
