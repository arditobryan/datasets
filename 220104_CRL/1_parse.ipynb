{
 "cells": [
  {
   "cell_type": "code",
   "execution_count": null,
   "metadata": {},
   "outputs": [],
   "source": [
    "deck_columns = ['gameMode_name']+[f'team_0_cards_{x}_name' for x in range(8)]+[f'opponent_0_cards_{x}_name' for x in range(8)]+['team_0_crowns']+['opponent_0_crowns']\n",
    "deck_columns"
   ]
  },
  {
   "cell_type": "code",
   "execution_count": null,
   "metadata": {},
   "outputs": [],
   "source": [
    "import os\n",
    "import pandas as pd\n",
    "\n",
    "df_match = pd.DataFrame()\n",
    "for csv_file in os.listdir('CRL_matches'):\n",
    "    df = pd.read_csv('CRL_matches/'+csv_file)\n",
    "    #display(df[deck_columns])\n",
    "    df_match = pd.concat([df_match, df[deck_columns]])\n",
    "df_match.to_csv('CRL_1_raw.csv')"
   ]
  }
 ],
 "metadata": {
  "language_info": {
   "name": "python"
  },
  "orig_nbformat": 4
 },
 "nbformat": 4,
 "nbformat_minor": 2
}
