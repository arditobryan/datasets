{
 "cells": [
  {
   "cell_type": "code",
   "execution_count": 1,
   "metadata": {},
   "outputs": [
    {
     "data": {
      "text/plain": [
       "['gameMode_name',\n",
       " 'team_0_cards_0_name',\n",
       " 'team_0_cards_1_name',\n",
       " 'team_0_cards_2_name',\n",
       " 'team_0_cards_3_name',\n",
       " 'team_0_cards_4_name',\n",
       " 'team_0_cards_5_name',\n",
       " 'team_0_cards_6_name',\n",
       " 'team_0_cards_7_name',\n",
       " 'opponent_0_cards_0_name',\n",
       " 'opponent_0_cards_1_name',\n",
       " 'opponent_0_cards_2_name',\n",
       " 'opponent_0_cards_3_name',\n",
       " 'opponent_0_cards_4_name',\n",
       " 'opponent_0_cards_5_name',\n",
       " 'opponent_0_cards_6_name',\n",
       " 'opponent_0_cards_7_name',\n",
       " 'team_0_crowns',\n",
       " 'opponent_0_crowns']"
      ]
     },
     "execution_count": 1,
     "metadata": {},
     "output_type": "execute_result"
    }
   ],
   "source": [
    "deck_columns = ['gameMode_name']+[f'team_0_cards_{x}_name' for x in range(8)]+[f'opponent_0_cards_{x}_name' for x in range(8)]+['team_0_crowns']+['opponent_0_crowns']\n",
    "deck_columns"
   ]
  },
  {
   "cell_type": "code",
   "execution_count": 2,
   "metadata": {},
   "outputs": [],
   "source": [
    "import os\n",
    "import pandas as pd\n",
    "\n",
    "df_match = pd.DataFrame()\n",
    "for csv_file in os.listdir('CRL_matches'):\n",
    "    df = pd.read_csv('CRL_matches/'+csv_file)\n",
    "    #display(df[deck_columns])\n",
    "    df_match = pd.concat([df_match, df[deck_columns]])\n",
    "df_match.to_csv('CRL_1_raw.csv')"
   ]
  }
 ],
 "metadata": {
  "interpreter": {
   "hash": "75a300ae82dd7b8f387c1777b66b2ec8c7a5f6d51d6392630ee9b10fab7f95f8"
  },
  "kernelspec": {
   "display_name": "Python 3.9.0 64-bit",
   "language": "python",
   "name": "python3"
  },
  "language_info": {
   "codemirror_mode": {
    "name": "ipython",
    "version": 3
   },
   "file_extension": ".py",
   "mimetype": "text/x-python",
   "name": "python",
   "nbconvert_exporter": "python",
   "pygments_lexer": "ipython3",
   "version": "3.9.0"
  },
  "orig_nbformat": 4
 },
 "nbformat": 4,
 "nbformat_minor": 2
}
