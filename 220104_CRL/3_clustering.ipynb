{
 "cells": [
  {
   "cell_type": "code",
   "execution_count": 1,
   "metadata": {},
   "outputs": [
    {
     "name": "stderr",
     "output_type": "stream",
     "text": [
      "C:\\Users\\ardit\\AppData\\Local\\Programs\\Python\\Python39\\lib\\site-packages\\relevanceai\\__init__.py:23: UserWarning: Your RelevanceAI version (0.25.0) is not the latest. Please install the latest version (0.26.6) by running pip install -U relevanceai\n",
      "  warnings.warn(\n"
     ]
    }
   ],
   "source": [
    "#   SDK\n",
    "import relevanceai\n",
    "\n",
    "project = \"michelangioloma\" #'638c33786033a2ebd49f'\n",
    "api_key = \"TDFvdm9Yd0J1M3VVTEcyQTV3VWs6b3RnRXJnUW9SQ2kwMVVJWVZ2VzVtZw\" #'TGx6UGNIWUJ5R0lBMktUNTRsbjM6VElZRzhaRjlRUnVYY3RfQ0pISXd1QQ'\n",
    "client = relevanceai.Client(project, api_key)\n",
    "client.base_url = \"https://gateway-api-aueast.relevance.ai/latest\""
   ]
  },
  {
   "cell_type": "code",
   "execution_count": null,
   "metadata": {},
   "outputs": [],
   "source": [
    "import json\n",
    "\n",
    "#import json\n",
    "with open('CRL_3_df_ready.json') as file:\n",
    "    df_ready = json.loads(file.read())\n",
    "df_ready"
   ]
  },
  {
   "cell_type": "code",
   "execution_count": null,
   "metadata": {},
   "outputs": [],
   "source": [
    "#upload df\n",
    "client.datasets.bulk_insert(dataset_id='crl_matches', documents=df_ready)"
   ]
  },
  {
   "cell_type": "code",
   "execution_count": 2,
   "metadata": {},
   "outputs": [
    {
     "data": {
      "text/plain": [
       "{'_cluster_': 'dict',\n",
       " '_cluster_.deck_vector_': 'dict',\n",
       " '_cluster_.deck_vector_.kmeans_12': 'text',\n",
       " '_cluster_.deck_vector_.kmeans_6': 'text',\n",
       " 'deck_original': 'text',\n",
       " 'deck_vector_': {'vector': 106},\n",
       " 'insert_date_': 'date'}"
      ]
     },
     "execution_count": 2,
     "metadata": {},
     "output_type": "execute_result"
    }
   ],
   "source": [
    "client.datasets.schema('crl_matches')"
   ]
  },
  {
   "cell_type": "markdown",
   "metadata": {},
   "source": [
    "## clustering"
   ]
  },
  {
   "cell_type": "code",
   "execution_count": null,
   "metadata": {},
   "outputs": [],
   "source": [
    "# Vector field based on which clustering is done - (Currently only one vector is supported)\n",
    "vector_field = 'descriptiontextmulti_vector_'\n",
    "\n",
    "#local or remote?\n",
    "centroids = client.vector_tools.cluster.kmeans_cluster(\n",
    "    dataset_id = 'crl_matches', \n",
    "    vector_fields=['deck_vector_'],\n",
    "    k = 12)\n",
    "\n",
    "#creates clusters but only gives the centroids\n",
    "#clustering results is uploaded on the database"
   ]
  },
  {
   "cell_type": "code",
   "execution_count": null,
   "metadata": {},
   "outputs": [],
   "source": [
    "client.datasets.schema('crl_matches')"
   ]
  },
  {
   "cell_type": "markdown",
   "metadata": {},
   "source": [
    "## dashboard"
   ]
  },
  {
   "cell_type": "code",
   "execution_count": null,
   "metadata": {},
   "outputs": [],
   "source": [
    "client.services.cluster.centroids.list_closest_to_center(\n",
    "  dataset_id='crl_matches',\n",
    "  vector_fields=[\"deck_vector_\"],\n",
    "  page_size=20,\n",
    "  #cluster_ids=[], # Leave this as an empty list if you want all of the clusters\n",
    "  alias=\"kmeans_12\" #change to 'kmeans_10' \n",
    ")"
   ]
  }
 ],
 "metadata": {
  "interpreter": {
   "hash": "75a300ae82dd7b8f387c1777b66b2ec8c7a5f6d51d6392630ee9b10fab7f95f8"
  },
  "kernelspec": {
   "display_name": "Python 3.9.0 64-bit",
   "language": "python",
   "name": "python3"
  },
  "language_info": {
   "codemirror_mode": {
    "name": "ipython",
    "version": 3
   },
   "file_extension": ".py",
   "mimetype": "text/x-python",
   "name": "python",
   "nbconvert_exporter": "python",
   "pygments_lexer": "ipython3",
   "version": "3.9.0"
  },
  "orig_nbformat": 4
 },
 "nbformat": 4,
 "nbformat_minor": 2
}
