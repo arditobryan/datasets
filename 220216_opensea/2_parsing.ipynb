{
 "cells": [
  {
   "cell_type": "code",
   "execution_count": 7,
   "metadata": {},
   "outputs": [],
   "source": [
    "import requests\n",
    "from bs4 import BeautifulSoup\n",
    "import os\n",
    "\n",
    "path = r'C:\\Users\\ardit\\Desktop\\Projects\\relevanceAI\\_repos\\datasets\\220216_opensea\\files\\meebits'\n",
    "for a in os.listdir(r'C:\\Users\\ardit\\Desktop\\Projects\\relevanceAI\\_repos\\datasets\\220216_opensea\\files\\meebits'):\n",
    "    file_path = path+'\\\\'+a\n",
    "\n",
    "    with open(page) as file:\n",
    "        text = file.read()"
   ]
  },
  {
   "cell_type": "code",
   "execution_count": 13,
   "metadata": {},
   "outputs": [],
   "source": [
    "with open(file_path) as file:\n",
    "    text = file.read()\n",
    "\n",
    "    soup = BeautifulSoup(text, 'html.parser')\n",
    "    soup"
   ]
  },
  {
   "cell_type": "code",
   "execution_count": 49,
   "metadata": {},
   "outputs": [
    {
     "data": {
      "text/plain": [
       "'https://lh3.googleusercontent.com/FG-qkcsAEfkmH5zLI3wSz8s66zjEaKC0wI1zRyX-e2p9Fseoa05OQRmIuBqBEHCOA-o9nUq8TFCyy516iJ3GMwS0oEkpYnYCkSzWnw=w282'"
      ]
     },
     "execution_count": 49,
     "metadata": {},
     "output_type": "execute_result"
    }
   ],
   "source": [
    "soup.find_all('div', {'role':'gridcell'})[0].find_all('article')[0].find_all('a')[0].find_all('div')[1].find('img').get('src')"
   ]
  },
  {
   "cell_type": "code",
   "execution_count": 77,
   "metadata": {},
   "outputs": [
    {
     "data": {
      "text/plain": [
       "<div class=\"AssetMediareact__DivContainer-sc-1v86bfg-2 iuBeFR\"><div class=\"Blockreact__Block-sc-1xf18x6-0 Flexreact__Flex-sc-1twd32i-0 FlexColumnreact__FlexColumn-sc-1wwz3hp-0 VerticalAlignedreact__VerticalAligned-sc-b4hiel-0 CenterAlignedreact__CenterAligned-sc-cjf6mn-0 bKhpmf jYqxGr ksFzlZ iXcsEj cgnEmv\" height=\"100%\" width=\"100%\"><div class=\"Imagereact__DivContainer-sc-dy59cl-0 kMPTZo Image--fade Image--isImageLoaded Image--isImageLoaderVisible AssetMedia--img\" style=\"height: 100%; width: 282px;\"><img alt=\"Meebit #5409\" class=\"Image--image\" src=\"https://lh3.googleusercontent.com/FG-qkcsAEfkmH5zLI3wSz8s66zjEaKC0wI1zRyX-e2p9Fseoa05OQRmIuBqBEHCOA-o9nUq8TFCyy516iJ3GMwS0oEkpYnYCkSzWnw=w282\" style=\"object-fit: contain; width: auto; height: auto; max-width: 100%; max-height: 100%; border-radius: 0px;\"/></div></div></div>"
      ]
     },
     "execution_count": 77,
     "metadata": {},
     "output_type": "execute_result"
    }
   ],
   "source": [
    "soup.find_all('div', {'role':'gridcell'})[0].find_all('article')[0].find_all('a')[0].find_all('div')[1]"
   ]
  },
  {
   "cell_type": "code",
   "execution_count": 139,
   "metadata": {},
   "outputs": [
    {
     "name": "stdout",
     "output_type": "stream",
     "text": [
      "3\n",
      "2\n",
      "2\n",
      "14\n",
      "2\n",
      "2\n",
      "0\n",
      "0\n",
      "1\n",
      "0\n",
      "2\n",
      "1\n",
      "2\n",
      "0\n",
      "0\n",
      "0\n",
      "2\n",
      "0\n",
      "1\n",
      "0\n",
      "1\n",
      "4\n",
      "2\n",
      "8\n",
      "1\n",
      "1\n",
      "2\n",
      "0\n",
      "6\n",
      "3\n",
      "1\n",
      "3\n",
      "8\n",
      "37\n",
      "3\n"
     ]
    }
   ],
   "source": [
    "for n in range(len(soup.find_all('div', {'role':'gridcell'}))):\n",
    "    counter = 0\n",
    "    for content in soup.find_all('div', {'role':'gridcell'})[n].find_all('article')[0].find_all('a')[0].find_all('div'):\n",
    "        if len(content.find_all('footer')) > 0:\n",
    "            #print(counter)\n",
    "            likes =  print(soup.find_all('div', {'role':'gridcell'})[n].find_all('article')[0].find_all('a')[0].find_all('div')[counter].find('footer').find_all('div')[-1].decode_contents())\n",
    "            \n",
    "        counter += 1"
   ]
  },
  {
   "cell_type": "code",
   "execution_count": null,
   "metadata": {},
   "outputs": [],
   "source": [
    "soup.find_all('div', {'role':'gridcell'})[0].find_all('article')[0].find_all('a')[0].find_all('div')[4].find('footer').find_all('div')[-1].decode_contents()"
   ]
  },
  {
   "cell_type": "code",
   "execution_count": null,
   "metadata": {},
   "outputs": [],
   "source": [
    "soup.find_all('div', {'role':'gridcell'})[0].find_all('article')[0].find_all('a')[0].find_all('div')[4].find('footer').find_all('div')[-1].decode_contents()"
   ]
  }
 ],
 "metadata": {
  "interpreter": {
   "hash": "75a300ae82dd7b8f387c1777b66b2ec8c7a5f6d51d6392630ee9b10fab7f95f8"
  },
  "kernelspec": {
   "display_name": "Python 3.9.0 64-bit",
   "language": "python",
   "name": "python3"
  },
  "language_info": {
   "codemirror_mode": {
    "name": "ipython",
    "version": 3
   },
   "file_extension": ".py",
   "mimetype": "text/x-python",
   "name": "python",
   "nbconvert_exporter": "python",
   "pygments_lexer": "ipython3",
   "version": "3.9.0"
  },
  "orig_nbformat": 4
 },
 "nbformat": 4,
 "nbformat_minor": 2
}
