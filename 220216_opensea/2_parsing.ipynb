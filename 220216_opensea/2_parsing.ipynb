{
 "cells": [
  {
   "cell_type": "code",
   "execution_count": 38,
   "metadata": {},
   "outputs": [
    {
     "name": "stdout",
     "output_type": "stream",
     "text": [
      "bears 0.html\n"
     ]
    }
   ],
   "source": [
    "import requests\n",
    "from bs4 import BeautifulSoup\n",
    "import os\n",
    "import pandas as pd\n",
    "\n",
    "df_json = list()\n",
    "for collection in os.listdir(r'D:\\_Projects\\relevanceAI\\_repos\\datasets\\220216_opensea\\files'):\n",
    "    path = rf'D:\\_Projects\\relevanceAI\\_repos\\datasets\\220216_opensea\\files\\{collection}'\n",
    "    for a in os.listdir(rf'D:\\_Projects\\relevanceAI\\_repos\\datasets\\220216_opensea\\files\\{collection}'):\n",
    "        file_path = path+'\\\\'+a\n",
    "\n",
    "        print(collection, a)\n",
    "        with open(file_path) as file:\n",
    "            text = file.read()\n",
    "            soup = BeautifulSoup(text, 'html.parser')\n",
    "\n",
    "            err = 0\n",
    "            for n in range(len(soup.find_all('div', {'role':'gridcell'}))):\n",
    "                try:\n",
    "                    img_dict = dict()\n",
    "                    counter = 0\n",
    "\n",
    "                    img_dict['collection'] = collection\n",
    "                    img_dict['img'] = soup.find_all('div', {'role':'gridcell'})[n].find_all('article')[0].find_all('a')[0].find_all('div')[1].find('img').get('src')\n",
    "                    img_dict['name1'] = soup.find_all('div', {'role':'gridcell'})[n].find_all('div', {'class': 'Overflowreact__OverflowContainer-sc-7qr9y8-0 jPSCbX'})[0].decode_contents()\n",
    "                    img_dict['name2'] = soup.find_all('div', {'role':'gridcell'})[n].find_all('div', {'class': 'AssetCardFooter--name'})[0].decode_contents()\n",
    "                    img_dict['link'] = 'https://opensea.io' + soup.find_all('div', {'role':'gridcell'})[n].find_all('a', {'class': 'styles__StyledLink-sc-l6elh8-0 ekTmzq Asset--anchor'})[0].get('href')\n",
    "                    try:\n",
    "                        img_dict['price'] = float(soup.find_all('div', {'role':'gridcell'})[n].find_all('div', {'class': 'Overflowreact__OverflowContainer-sc-7qr9y8-0 jPSCbX Price--amount'})[0].decode_contents().split(' ')[0])\n",
    "                        pass\n",
    "                    except:\n",
    "                        err += 1\n",
    "\n",
    "                    for content in soup.find_all('div', {'role':'gridcell'})[n].find_all('article')[0].find_all('a')[0].find_all('div'):\n",
    "                        if len(content.find_all('footer')) > 0:\n",
    "                            #print(counter)\n",
    "                            img_dict['likes'] = soup.find_all('div', {'role':'gridcell'})[n].find_all('article')[0].find_all('a')[0].find_all('div')[counter].find('footer').find_all('div')[-1].decode_contents()\n",
    "                            \n",
    "                        counter += 1\n",
    "                    df_json.append(img_dict)\n",
    "                except:\n",
    "                    pass\n",
    "            err\n",
    "\n",
    "#pd.DataFrame(df_json).drop_duplicates().to_csv('opensea.csv', index=None)"
   ]
  },
  {
   "cell_type": "code",
   "execution_count": 34,
   "metadata": {},
   "outputs": [
    {
     "data": {
      "text/plain": [
       "'/assets/0x14e0a1f310e2b7e321c91f58847e98b8c802f6ef/1936'"
      ]
     },
     "execution_count": 34,
     "metadata": {},
     "output_type": "execute_result"
    }
   ],
   "source": []
  },
  {
   "cell_type": "code",
   "execution_count": 30,
   "metadata": {},
   "outputs": [
    {
     "data": {
      "text/plain": [
       "<div role=\"gridcell\" style=\"top: 58081px; left: 0px; width: 205px; writing-mode: horizontal-tb; position: absolute;\"><div class=\"Blockreact__Block-sc-1xf18x6-0 Assetreact__StyledContainer-sc-bnjqwy-0 elqhCm bwCDxg Asset--loaded\"><div class=\"Blockreact__Block-sc-1xf18x6-0 ewZbdt\" height=\"10\" width=\"auto\"><div class=\"Blockreact__Block-sc-1xf18x6-0 Flexreact__Flex-sc-1twd32i-0 FlexColumnreact__FlexColumn-sc-1wwz3hp-0 VerticalAlignedreact__VerticalAligned-sc-b4hiel-0 CenterAlignedreact__CenterAligned-sc-cjf6mn-0 fiWgVT jYqxGr ksFzlZ iXcsEj cgnEmv\" visibility=\"hidden\" width=\"100%\"><div class=\"Blockreact__Block-sc-1xf18x6-0 Assetreact__StackedCard-sc-bnjqwy-1 ceMtNT fjXMxm\" width=\"94%\"></div><div class=\"Blockreact__Block-sc-1xf18x6-0 Assetreact__StackedCard-sc-bnjqwy-1 eSQjRv fjXMxm\" width=\"98%\"></div></div></div><article class=\"Assetreact__AssetCard-sc-bnjqwy-2 fXFHnS Asset--loaded AssetSearchList--asset\" style=\"width: 205px;\"><a class=\"styles__StyledLink-sc-l6elh8-0 ekTmzq Asset--anchor\" href=\"/assets/0x14e0a1f310e2b7e321c91f58847e98b8c802f6ef/1936\"><div class=\"Blockreact__Block-sc-1xf18x6-0 AssetCardContentreact__StyledContainer-sc-a8q9zx-0 dNtdmG egubqN\" style=\"height: 203px; width: 203px;\"><div class=\"AssetMediareact__DivContainer-sc-1v86bfg-2 iuBeFR\"><div class=\"Blockreact__Block-sc-1xf18x6-0 Flexreact__Flex-sc-1twd32i-0 FlexColumnreact__FlexColumn-sc-1wwz3hp-0 VerticalAlignedreact__VerticalAligned-sc-b4hiel-0 CenterAlignedreact__CenterAligned-sc-cjf6mn-0 bKhpmf jYqxGr ksFzlZ iXcsEj cgnEmv\" height=\"100%\" width=\"100%\"><div class=\"Imagereact__DivContainer-sc-dy59cl-0 kMPTZo Image--fade Image--isImageLoaded Image--isImageLoaderVisible AssetMedia--img\" style=\"height: 100%; width: 203px;\"><img alt=\"HYPEBEARS  #1936\" class=\"Image--image\" src=\"https://lh3.googleusercontent.com/9qrqxDwTiHQmF3tm_eJpzDFLPdlH5UtkootoG21NQu82VVlyC7wXVpblCDvJSfNtdtMXOjkhZAfvxizspYJVw08vXeG-EFfvJv73tg=w203\" style=\"object-fit: contain; width: auto; height: auto; max-width: 100%; max-height: 100%; border-radius: 0px;\"/></div></div></div></div><div class=\"Blockreact__Block-sc-1xf18x6-0 Flexreact__Flex-sc-1twd32i-0 SpaceBetweenreact__SpaceBetween-sc-jjxyhg-0 AssetCardFooterreact__StyledContainer-sc-nedjig-0 kLMBbO jYqxGr gJwgfT cBTfDg\"><div class=\"Blockreact__Block-sc-1xf18x6-0 Flexreact__Flex-sc-1twd32i-0 SpaceBetweenreact__SpaceBetween-sc-jjxyhg-0 jZXUsp jYqxGr gJwgfT\"><div class=\"Blockreact__Block-sc-1xf18x6-0 bKIAwj\" width=\"60%\"><div class=\"Blockreact__Block-sc-1xf18x6-0 Flexreact__Flex-sc-1twd32i-0 jffCaG jYqxGr\"><div class=\"Blockreact__Block-sc-1xf18x6-0 hjbqQx\"><a class=\"styles__StyledLink-sc-l6elh8-0 ekTmzq AssetCardFooter--collection-name\" href=\"/collection/hype-bears-club-official-\"><div class=\"Blockreact__Block-sc-1xf18x6-0 Flexreact__Flex-sc-1twd32i-0 elqhCm jYqxGr\"><div class=\"Overflowreact__OverflowContainer-sc-7qr9y8-0 jPSCbX\">HYPEBEARSCLUB.OFFICIAL</div></div></a></div></div><div class=\"Overflowreact__OverflowContainer-sc-7qr9y8-0 jRbcys\" tabindex=\"-1\"><div class=\"AssetCardFooter--name\">HYPEBEARS  #1936</div></div></div><div class=\"Blockreact__Block-sc-1xf18x6-0 Flexreact__Flex-sc-1twd32i-0 FlexColumnreact__FlexColumn-sc-1wwz3hp-0 hrRSNm jYqxGr ksFzlZ\" width=\"40%\"><div class=\"AssetCardFooter--price\"><span class=\"Blockreact__Block-sc-1xf18x6-0 Textreact__Text-sc-1w94ul3-0 iqfsUd fPWWHD\" font-weight=\"400\">Price</span><div class=\"Pricereact__DivContainer-sc-t54vn5-0 iBLrYW Price--main AssetCardFooter--price-amount\"><div class=\"Blockreact__Block-sc-1xf18x6-0 fdhxMV\" cursor=\"pointer\"><div class=\"Blockreact__Block-sc-1xf18x6-0 Flexreact__Flex-sc-1twd32i-0 FlexColumnreact__FlexColumn-sc-1wwz3hp-0 VerticalAlignedreact__VerticalAligned-sc-b4hiel-0 CenterAlignedreact__CenterAligned-sc-cjf6mn-0 Avatarreact__AvatarContainer-sc-sbw25j-0 jGZCUu jYqxGr ksFzlZ iXcsEj cgnEmv dukFGY\" size=\"14\"><img alt=\"ETH\" class=\"Blockreact__Block-sc-1xf18x6-0 Avatarreact__ImgAvatar-sc-sbw25j-1 jGZCUu hzWBaN Price--eth-icon\" size=\"14\" src=\"https://storage.opensea.io/files/6f8e2979d428180222796ff4a33ab929.svg\"/></div></div><div class=\"Overflowreact__OverflowContainer-sc-7qr9y8-0 jPSCbX Price--amount\" tabindex=\"-1\">1.497 <span class=\"Price--raw-symbol\"></span></div></div></div><div class=\"Blockreact__Block-sc-1xf18x6-0 elqhCm AssetCardFooter--trading-annotations\"><div class=\"AssetCardFooter--annotations-item\"><div class=\"AssetCardFooter--annotations-item-text\">Last</div><div class=\"Blockreact__Block-sc-1xf18x6-0 hsJPPv\"><div class=\"Pricereact__DivContainer-sc-t54vn5-0 iBLrYW Price--main\"><div class=\"Blockreact__Block-sc-1xf18x6-0 fdhxMV\" cursor=\"pointer\"><div class=\"Blockreact__Block-sc-1xf18x6-0 Flexreact__Flex-sc-1twd32i-0 FlexColumnreact__FlexColumn-sc-1wwz3hp-0 VerticalAlignedreact__VerticalAligned-sc-b4hiel-0 CenterAlignedreact__CenterAligned-sc-cjf6mn-0 Avatarreact__AvatarContainer-sc-sbw25j-0 uqDNW jYqxGr ksFzlZ iXcsEj cgnEmv dukFGY\" size=\"11\"><img alt=\"ETH\" class=\"Blockreact__Block-sc-1xf18x6-0 Avatarreact__ImgAvatar-sc-sbw25j-1 uqDNW hzWBaN Price--eth-icon\" size=\"11\" src=\"https://storage.opensea.io/files/6f8e2979d428180222796ff4a33ab929.svg\"/></div></div><div class=\"Overflowreact__OverflowContainer-sc-7qr9y8-0 jPSCbX Price--amount\" tabindex=\"-1\">1.07 <span class=\"Price--raw-symbol\"></span></div></div></div></div></div></div></div><footer class=\"Blockreact__Block-sc-1xf18x6-0 Flexreact__Flex-sc-1twd32i-0 SpaceBetweenreact__SpaceBetween-sc-jjxyhg-0 AssetCardAnnotationsreact__StyledContainer-sc-1i5b3a5-0 elqhCm jYqxGr gJwgfT eaVXaW\"><div class=\"Blockreact__Block-sc-1xf18x6-0 Flexreact__Flex-sc-1twd32i-0 jffCaG jYqxGr\"><div class=\"fresnel-container fresnel-greaterThan-sm\"><div class=\"Blockreact__Block-sc-1xf18x6-0 Flexreact__Flex-sc-1twd32i-0 FlexColumnreact__FlexColumn-sc-1wwz3hp-0 VerticalAlignedreact__VerticalAligned-sc-b4hiel-0 AssetCardAnnotationsreact__AssetCardAnnotationsBuyNowContainer-sc-1i5b3a5-1 elqhCm jYqxGr ksFzlZ iXcsEj grFswr\"><div class=\"Blockreact__Block-sc-1xf18x6-0 elqhCm\"><button class=\"UnstyledButtonreact__UnstyledButton-sc-ty1bh0-0 btgkrL\" type=\"button\"><p class=\"Blockreact__Block-sc-1xf18x6-0 Textreact__Text-sc-1w94ul3-0 cKQpdV dsumKY\" font-size=\"14px\">Buy now</p></button></div></div></div><div class=\"fresnel-container fresnel-greaterThan-sm\"><div class=\"AssetCardAnnotationsreact__AssetCardAnnotationsIconsWithBuyNowContainer-sc-1i5b3a5-2 gPrdDC\"><div class=\"Blockreact__Block-sc-1xf18x6-0 Flexreact__Flex-sc-1twd32i-0 jffCaG jYqxGr\"><div class=\"Blockreact__Block-sc-1xf18x6-0 Flexreact__Flex-sc-1twd32i-0 blWKFw jYqxGr\"><button aria-label=\"Ethereum logo\" class=\"UnstyledButtonreact__UnstyledButton-sc-ty1bh0-0 ChainLogoreact__LogoButton-sc-1fidmhx-0 btgkrL eWlnGz\" type=\"button\"><svg fill=\"gray\" style=\"width: 12px;\" viewbox=\"-38.39985 -104.22675 332.7987 625.3605\"><path d=\"M125.166 285.168l2.795 2.79 127.962-75.638L127.961 0l-2.795 9.5z\"></path><path d=\"M127.962 287.959V0L0 212.32z\"></path><path d=\"M126.386 412.306l1.575 4.6L256 236.587l-128.038 75.6-1.575 1.92z\"></path><path d=\"M0 236.585l127.962 180.32v-104.72z\"></path><path d=\"M127.961 154.159v133.799l127.96-75.637z\"></path><path d=\"M127.96 154.159L0 212.32l127.96 75.637z\"></path></svg></button></div></div></div></div></div><div class=\"Blockreact__Block-sc-1xf18x6-0 Flexreact__Flex-sc-1twd32i-0 jffCaG jYqxGr\"><div class=\"Blockreact__Block-sc-1xf18x6-0 Flexreact__Flex-sc-1twd32i-0 elqhCm jYqxGr\"><button class=\"UnstyledButtonreact__UnstyledButton-sc-ty1bh0-0 btgkrL\" type=\"button\"><i aria-label=\"Favorite\" class=\"Iconreact__Icon-sc-1gugx8q-0 FavoriteIconreact__StyledIcon-sc-289aae-0 irmnIh fNbWaJ material-icons\" size=\"20\" value=\"favorite_border\">favorite_border</i></button></div><p class=\"Blockreact__Block-sc-1xf18x6-0 Textreact__Text-sc-1w94ul3-0 elqhCm gwsEKa\"><div class=\"Blockreact__Block-sc-1xf18x6-0 Flexreact__Flex-sc-1twd32i-0 FlexColumnreact__FlexColumn-sc-1wwz3hp-0 VerticalAlignedreact__VerticalAligned-sc-b4hiel-0 dLqDlm jYqxGr ksFzlZ iXcsEj\">0</div></p></div></footer></div></a></article></div></div>"
      ]
     },
     "execution_count": 30,
     "metadata": {},
     "output_type": "execute_result"
    }
   ],
   "source": [
    "tot = soup.find_all('div', {'role':'gridcell'})[7]\n",
    "tot"
   ]
  },
  {
   "cell_type": "code",
   "execution_count": 23,
   "metadata": {},
   "outputs": [
    {
     "name": "stdout",
     "output_type": "stream",
     "text": [
      "err\n",
      "err\n",
      "err\n",
      "err\n",
      "err\n",
      "err\n",
      "err\n"
     ]
    },
    {
     "data": {
      "text/plain": [
       "[{'collection': 'bears',\n",
       "  'img': 'https://lh3.googleusercontent.com/9qrqxDwTiHQmF3tm_eJpzDFLPdlH5UtkootoG21NQu82VVlyC7wXVpblCDvJSfNtdtMXOjkhZAfvxizspYJVw08vXeG-EFfvJv73tg=w203',\n",
       "  'name1': 'HYPEBEARSCLUB.OFFICIAL',\n",
       "  'name2': 'HYPEBEARS  #1936',\n",
       "  'price': 1.497,\n",
       "  'likes': '0'}]"
      ]
     },
     "execution_count": 23,
     "metadata": {},
     "output_type": "execute_result"
    }
   ],
   "source": [
    "df_json = list()\n",
    "for n in range(0, 8):\n",
    "    try:\n",
    "        img_dict = dict()\n",
    "        counter = 0\n",
    "\n",
    "        img_dict['collection'] = collection\n",
    "        img_dict['img'] = soup.find_all('div', {'role':'gridcell'})[n].find_all('article')[0].find_all('a')[0].find_all('div')[1].find('img').get('src')\n",
    "        img_dict['name1'] = soup.find_all('div', {'role':'gridcell'})[n].find_all('div', {'class': 'Overflowreact__OverflowContainer-sc-7qr9y8-0 jPSCbX'})[0].decode_contents()\n",
    "        img_dict['name2'] = soup.find_all('div', {'role':'gridcell'})[n].find_all('div', {'class': 'AssetCardFooter--name'})[0].decode_contents()\n",
    "        try:\n",
    "            img_dict['price'] = float(soup.find_all('div', {'role':'gridcell'})[n].find_all('div', {'class': 'Overflowreact__OverflowContainer-sc-7qr9y8-0 jPSCbX Price--amount'})[0].decode_contents().split(' ')[0])\n",
    "            pass\n",
    "        except:\n",
    "            err += 1\n",
    "\n",
    "        for content in soup.find_all('div', {'role':'gridcell'})[n].find_all('article')[0].find_all('a')[0].find_all('div'):\n",
    "            if len(content.find_all('footer')) > 0:\n",
    "                #print(counter)\n",
    "                img_dict['likes'] = soup.find_all('div', {'role':'gridcell'})[n].find_all('article')[0].find_all('a')[0].find_all('div')[counter].find('footer').find_all('div')[-1].decode_contents()\n",
    "                \n",
    "            counter += 1\n",
    "        df_json.append(img_dict)\n",
    "    except:\n",
    "        print('err')\n",
    "        pass\n"
   ]
  },
  {
   "cell_type": "code",
   "execution_count": 13,
   "metadata": {},
   "outputs": [
    {
     "data": {
      "text/html": [
       "<div>\n",
       "<style scoped>\n",
       "    .dataframe tbody tr th:only-of-type {\n",
       "        vertical-align: middle;\n",
       "    }\n",
       "\n",
       "    .dataframe tbody tr th {\n",
       "        vertical-align: top;\n",
       "    }\n",
       "\n",
       "    .dataframe thead th {\n",
       "        text-align: right;\n",
       "    }\n",
       "</style>\n",
       "<table border=\"1\" class=\"dataframe\">\n",
       "  <thead>\n",
       "    <tr style=\"text-align: right;\">\n",
       "      <th></th>\n",
       "      <th>collection</th>\n",
       "      <th>img</th>\n",
       "      <th>name1</th>\n",
       "      <th>name2</th>\n",
       "      <th>price</th>\n",
       "      <th>likes</th>\n",
       "    </tr>\n",
       "  </thead>\n",
       "  <tbody>\n",
       "    <tr>\n",
       "      <th>0</th>\n",
       "      <td>bears</td>\n",
       "      <td>https://lh3.googleusercontent.com/9qrqxDwTiHQm...</td>\n",
       "      <td>HYPEBEARSCLUB.OFFICIAL</td>\n",
       "      <td>HYPEBEARS  #1936</td>\n",
       "      <td>1.4970</td>\n",
       "      <td>0</td>\n",
       "    </tr>\n",
       "    <tr>\n",
       "      <th>1</th>\n",
       "      <td>bears</td>\n",
       "      <td>https://lh3.googleusercontent.com/6knWe4VjiHUO...</td>\n",
       "      <td>HYPEBEARSCLUB.OFFICIAL</td>\n",
       "      <td>HYPEBEARS  #3931</td>\n",
       "      <td>1.5000</td>\n",
       "      <td>1</td>\n",
       "    </tr>\n",
       "    <tr>\n",
       "      <th>2</th>\n",
       "      <td>bears</td>\n",
       "      <td>https://lh3.googleusercontent.com/VWeOmOeretds...</td>\n",
       "      <td>HYPEBEARSCLUB.OFFICIAL</td>\n",
       "      <td>HYPEBEARS  #2482</td>\n",
       "      <td>1.5000</td>\n",
       "      <td>3</td>\n",
       "    </tr>\n",
       "    <tr>\n",
       "      <th>3</th>\n",
       "      <td>bears</td>\n",
       "      <td>https://lh3.googleusercontent.com/YbvGyq_aU__m...</td>\n",
       "      <td>HYPEBEARSCLUB.OFFICIAL</td>\n",
       "      <td>HYPEBEARS  #33</td>\n",
       "      <td>1.5000</td>\n",
       "      <td>1</td>\n",
       "    </tr>\n",
       "    <tr>\n",
       "      <th>4</th>\n",
       "      <td>bears</td>\n",
       "      <td>https://lh3.googleusercontent.com/uj038BWV4sAQ...</td>\n",
       "      <td>HYPEBEARSCLUB.OFFICIAL</td>\n",
       "      <td>HYPEBEARS  #621</td>\n",
       "      <td>1.5000</td>\n",
       "      <td>2</td>\n",
       "    </tr>\n",
       "    <tr>\n",
       "      <th>...</th>\n",
       "      <td>...</td>\n",
       "      <td>...</td>\n",
       "      <td>...</td>\n",
       "      <td>...</td>\n",
       "      <td>...</td>\n",
       "      <td>...</td>\n",
       "    </tr>\n",
       "    <tr>\n",
       "      <th>20537</th>\n",
       "      <td>theshiboshis</td>\n",
       "      <td>https://lh3.googleusercontent.com/bdV-hbDwnzR7...</td>\n",
       "      <td>THE SHIBOSHIS</td>\n",
       "      <td>#8574</td>\n",
       "      <td>0.7370</td>\n",
       "      <td>5</td>\n",
       "    </tr>\n",
       "    <tr>\n",
       "      <th>20538</th>\n",
       "      <td>theshiboshis</td>\n",
       "      <td>https://lh3.googleusercontent.com/EbCDL3z-ShLz...</td>\n",
       "      <td>THE SHIBOSHIS</td>\n",
       "      <td>#8582</td>\n",
       "      <td>0.7370</td>\n",
       "      <td>1</td>\n",
       "    </tr>\n",
       "    <tr>\n",
       "      <th>20539</th>\n",
       "      <td>theshiboshis</td>\n",
       "      <td>https://lh3.googleusercontent.com/74RIEa4YHT47...</td>\n",
       "      <td>THE SHIBOSHIS</td>\n",
       "      <td>#6093</td>\n",
       "      <td>0.9725</td>\n",
       "      <td>39</td>\n",
       "    </tr>\n",
       "    <tr>\n",
       "      <th>20542</th>\n",
       "      <td>theshiboshis</td>\n",
       "      <td>https://lh3.googleusercontent.com/_GMUXqzGcCaH...</td>\n",
       "      <td>THE SHIBOSHIS</td>\n",
       "      <td>#3597</td>\n",
       "      <td>0.9837</td>\n",
       "      <td>6</td>\n",
       "    </tr>\n",
       "    <tr>\n",
       "      <th>20543</th>\n",
       "      <td>theshiboshis</td>\n",
       "      <td>https://lh3.googleusercontent.com/tUIZcMuanNoo...</td>\n",
       "      <td>THE SHIBOSHIS</td>\n",
       "      <td>#6085</td>\n",
       "      <td>0.9725</td>\n",
       "      <td>11</td>\n",
       "    </tr>\n",
       "  </tbody>\n",
       "</table>\n",
       "<p>9797 rows × 6 columns</p>\n",
       "</div>"
      ],
      "text/plain": [
       "         collection                                                img  \\\n",
       "0             bears  https://lh3.googleusercontent.com/9qrqxDwTiHQm...   \n",
       "1             bears  https://lh3.googleusercontent.com/6knWe4VjiHUO...   \n",
       "2             bears  https://lh3.googleusercontent.com/VWeOmOeretds...   \n",
       "3             bears  https://lh3.googleusercontent.com/YbvGyq_aU__m...   \n",
       "4             bears  https://lh3.googleusercontent.com/uj038BWV4sAQ...   \n",
       "...             ...                                                ...   \n",
       "20537  theshiboshis  https://lh3.googleusercontent.com/bdV-hbDwnzR7...   \n",
       "20538  theshiboshis  https://lh3.googleusercontent.com/EbCDL3z-ShLz...   \n",
       "20539  theshiboshis  https://lh3.googleusercontent.com/74RIEa4YHT47...   \n",
       "20542  theshiboshis  https://lh3.googleusercontent.com/_GMUXqzGcCaH...   \n",
       "20543  theshiboshis  https://lh3.googleusercontent.com/tUIZcMuanNoo...   \n",
       "\n",
       "                        name1             name2   price likes  \n",
       "0      HYPEBEARSCLUB.OFFICIAL  HYPEBEARS  #1936  1.4970     0  \n",
       "1      HYPEBEARSCLUB.OFFICIAL  HYPEBEARS  #3931  1.5000     1  \n",
       "2      HYPEBEARSCLUB.OFFICIAL  HYPEBEARS  #2482  1.5000     3  \n",
       "3      HYPEBEARSCLUB.OFFICIAL    HYPEBEARS  #33  1.5000     1  \n",
       "4      HYPEBEARSCLUB.OFFICIAL   HYPEBEARS  #621  1.5000     2  \n",
       "...                       ...               ...     ...   ...  \n",
       "20537           THE SHIBOSHIS             #8574  0.7370     5  \n",
       "20538           THE SHIBOSHIS             #8582  0.7370     1  \n",
       "20539           THE SHIBOSHIS             #6093  0.9725    39  \n",
       "20542           THE SHIBOSHIS             #3597  0.9837     6  \n",
       "20543           THE SHIBOSHIS             #6085  0.9725    11  \n",
       "\n",
       "[9797 rows x 6 columns]"
      ]
     },
     "execution_count": 13,
     "metadata": {},
     "output_type": "execute_result"
    }
   ],
   "source": [
    "pd.DataFrame(df_json).drop_duplicates()"
   ]
  }
 ],
 "metadata": {
  "interpreter": {
   "hash": "75a300ae82dd7b8f387c1777b66b2ec8c7a5f6d51d6392630ee9b10fab7f95f8"
  },
  "kernelspec": {
   "display_name": "Python 3.9.0 64-bit",
   "language": "python",
   "name": "python3"
  },
  "language_info": {
   "codemirror_mode": {
    "name": "ipython",
    "version": 3
   },
   "file_extension": ".py",
   "mimetype": "text/x-python",
   "name": "python",
   "nbconvert_exporter": "python",
   "pygments_lexer": "ipython3",
   "version": "3.9.0"
  },
  "orig_nbformat": 4
 },
 "nbformat": 4,
 "nbformat_minor": 2
}
