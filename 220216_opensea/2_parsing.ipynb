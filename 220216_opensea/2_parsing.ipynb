{
 "cells": [
  {
   "cell_type": "code",
   "execution_count": null,
   "metadata": {},
   "outputs": [],
   "source": [
    "import requests\n",
    "from bs4 import BeautifulSoup\n",
    "import os\n",
    "import pandas as pd\n",
    "\n",
    "df_json = list()\n",
    "for collection in ['mix', 'mix2', 'mix3']: #os.listdir(r'D:\\_Projects\\relevanceAI\\_repos\\datasets\\220216_opensea\\files')\n",
    "    path = rf'D:\\_Projects\\relevanceAI\\_repos\\datasets\\220216_opensea\\files\\{collection}'\n",
    "    for a in os.listdir(rf'D:\\_Projects\\relevanceAI\\_repos\\datasets\\220216_opensea\\files\\{collection}'):\n",
    "        file_path = path+'\\\\'+a\n",
    "\n",
    "        print(collection, a)\n",
    "        with open(file_path) as file:\n",
    "            text = file.read()\n",
    "            soup = BeautifulSoup(text, 'html.parser')\n",
    "\n",
    "            err = 0\n",
    "            for n in range(len(soup.find_all('div', {'role':'gridcell'}))):\n",
    "                try:\n",
    "                    img_dict = dict()\n",
    "                    counter = 0\n",
    "                    img_dict['collection'] = collection\n",
    "                    img_dict['img'] = soup.find_all('div', {'role':'gridcell'})[n].find_all('article')[0].find_all('a')[0].find_all('div')[1].find('img').get('src')\n",
    "                    img_dict['name1'] = soup.find_all('div', {'role':'gridcell'})[n].find_all('div', {'class': 'Overflowreact__OverflowContainer-sc-7qr9y8-0 jPSCbX'})[0].decode_contents()\n",
    "                    img_dict['name2'] = soup.find_all('div', {'role':'gridcell'})[n].find_all('div', {'class': 'AssetCardFooter--name'})[0].decode_contents()\n",
    "                    img_dict['link'] = 'https://opensea.io' + soup.find_all('div', {'role':'gridcell'})[n].find_all('a', {'class': 'styles__StyledLink-sc-l6elh8-0 ekTmzq Asset--anchor'})[0].get('href')\n",
    "                    try:\n",
    "                        img_dict['price'] = float(soup.find_all('div', {'role':'gridcell'})[n].find_all('div', {'class': 'Overflowreact__OverflowContainer-sc-7qr9y8-0 jPSCbX Price--amount'})[0].decode_contents().split(' ')[0])\n",
    "                        img_dict['best_offer'] = float(soup.find_all('div', {'role':'gridcell'})[n].find_all('div', {'class': 'Overflowreact__OverflowContainer-sc-7qr9y8-0 jPSCbX Price--amount'})[1].decode_contents().split(' ')[0])\n",
    "                        pass\n",
    "                    except:\n",
    "                        err += 1\n",
    "\n",
    "                    try:\n",
    "                        img_dict['currency'] = soup.find_all('div', {'role':'gridcell'})[n].find_all('img', {'class': \"Blockreact__Block-sc-1xf18x6-0 Avatarreact__ImgAvatar-sc-sbw25j-1 jGZCUu hzWBaN\"})[0].get('alt')\n",
    "                    except:\n",
    "                        img_dict['currency'] = ''\n",
    "\n",
    "                    for content in soup.find_all('div', {'role':'gridcell'})[n].find_all('article')[0].find_all('a')[0].find_all('div'):\n",
    "                        if len(content.find_all('footer')) > 0:\n",
    "                            #print(counter)\n",
    "                            img_dict['likes'] = soup.find_all('div', {'role':'gridcell'})[n].find_all('article')[0].find_all('a')[0].find_all('div')[counter].find('footer').find_all('div')[-1].decode_contents()\n",
    "                            \n",
    "                        counter += 1\n",
    "                    df_json.append(img_dict)\n",
    "                except:\n",
    "                    pass\n",
    "            err\n",
    "\n",
    "df = pd.DataFrame(df_json).drop_duplicates()\n",
    "#df.to_csv('opensea_mix.csv', index=None)\n",
    "df"
   ]
  },
  {
   "cell_type": "code",
   "execution_count": 17,
   "metadata": {},
   "outputs": [
    {
     "data": {
      "text/plain": [
       "'https://opensea.io/assets/0xc36cf0cfcb5d905b8b513860db0cfe63f6cf9f5c/28243436454437892467460092416836761550848'"
      ]
     },
     "execution_count": 17,
     "metadata": {},
     "output_type": "execute_result"
    }
   ],
   "source": [
    "df.iloc[9]['link']"
   ]
  },
  {
   "cell_type": "code",
   "execution_count": 22,
   "metadata": {},
   "outputs": [
    {
     "data": {
      "text/plain": [
       "[<img alt=\"Town of the Duke\" class=\"Image--image\" src=\"https://lh3.googleusercontent.com/jNHIDs3PF8rfSr3SBw0IYV5nwgSPggUz61pGgHkjNL5pOrR5DN-kTv-LAkYKEWrNbjqYzhS7D0oC0qrEdzLig2NoAQE1UuXY8xVSgQE=w279\" style=\"object-fit: contain; width: auto; height: auto; max-width: 100%; max-height: 100%; border-radius: 0px;\"/>]"
      ]
     },
     "execution_count": 22,
     "metadata": {},
     "output_type": "execute_result"
    }
   ],
   "source": [
    "soup.find_all('div', {'role':'gridcell'})[9].find_all('img')"
   ]
  },
  {
   "cell_type": "code",
   "execution_count": 13,
   "metadata": {},
   "outputs": [
    {
     "data": {
      "text/plain": [
       "[<img alt=\"\" class=\"Image--image\" src=\"https://lh3.googleusercontent.com/8NsqXw39Oo50HFchHEltIN4eLQ3SP9oHIk1F2caIojP2UBH9tJTvl_mIFvxyYx1EXluJ3KEIB8wS6nvdoYtsPkjLzi5nWtjAc9tOxg=w279\" style=\"object-fit: contain; width: auto; height: auto; max-width: 100%; max-height: 100%; border-radius: 0px;\"/>]"
      ]
     },
     "execution_count": 13,
     "metadata": {},
     "output_type": "execute_result"
    }
   ],
   "source": [
    "soup.find_all('div', {'role':'gridcell'})[10].find_all('img', {'class': \"Blockreact__Block-sc-1xf18x6-0 Avatarreact__ImgAvatar-sc-sbw25j-1 jGZCUu hzWBaN\"})"
   ]
  },
  {
   "cell_type": "code",
   "execution_count": null,
   "metadata": {},
   "outputs": [],
   "source": [
    "class=\"Blockreact__Block-sc-1xf18x6-0 Avatarreact__ImgAvatar-sc-sbw25j-1 jGZCUu hzWBaN\""
   ]
  },
  {
   "cell_type": "code",
   "execution_count": 23,
   "metadata": {},
   "outputs": [],
   "source": [
    "pd.DataFrame(df_json).drop('collection', axis=1).drop_duplicates().fillna(0).to_csv('opensea_mix.csv')"
   ]
  }
 ],
 "metadata": {
  "interpreter": {
   "hash": "75a300ae82dd7b8f387c1777b66b2ec8c7a5f6d51d6392630ee9b10fab7f95f8"
  },
  "kernelspec": {
   "display_name": "Python 3.9.0 64-bit",
   "language": "python",
   "name": "python3"
  },
  "language_info": {
   "codemirror_mode": {
    "name": "ipython",
    "version": 3
   },
   "file_extension": ".py",
   "mimetype": "text/x-python",
   "name": "python",
   "nbconvert_exporter": "python",
   "pygments_lexer": "ipython3",
   "version": "3.9.0"
  },
  "orig_nbformat": 4
 },
 "nbformat": 4,
 "nbformat_minor": 2
}
