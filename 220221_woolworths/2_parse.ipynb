{
 "cells": [
  {
   "cell_type": "code",
   "execution_count": 31,
   "metadata": {},
   "outputs": [
    {
     "name": "stdout",
     "output_type": "stream",
     "text": [
      "cooking-method-and-appliances\n"
     ]
    }
   ],
   "source": [
    "from bs4 import BeautifulSoup\n",
    "\n",
    "link_list = [\n",
    "    'cooking-method-and-appliances',\n",
    "    'category', \n",
    "    'seasons',\n",
    "    'dietary-lifestyle',\n",
    "    'fresh-ingredients',\n",
    "    'everyday-cooking',\n",
    "    'main-ingredient',\n",
    "    'meal-type',\n",
    "    'cuisine'\n",
    "]\n",
    "\n",
    "base = r'C:\\Users\\ardit\\Desktop\\Projects\\relevanceAI\\_repos\\datasets\\220221_woolworths\\files'\n",
    "\n",
    "all_recipes = list()\n",
    "for html in link_list[0:1]:\n",
    "    print(html)\n",
    "    content = base+'\\\\'+html+'\\\\0.html'\n",
    "\n",
    "    text = open(content).read()\n",
    "    soup = BeautifulSoup(text)\n",
    "    soup\n",
    "\n",
    "    for recipe in soup.find_all('div', {'class': 'recipe-cardContainer ng-star-inserted'}):\n",
    "        try:\n",
    "            dict1 = dict()\n",
    "            url = 'https://www.woolworths.com.au'+recipe.find_all('a', {'class': 'recipe-card'})[0].get('href')\n",
    "            prep = recipe.find_all('div', {'class': 'recipe-text'})[0].decode_contents().strip()\n",
    "            cook = recipe.find_all('div', {'class': 'recipe-text'})[1].decode_contents().strip()\n",
    "            name = recipe.find_all('div', {'class': 'recipe-title-text'})[0].decode_contents().strip()\n",
    "            img = recipe.find_all('img')[0].get('src')\n",
    "            try:\n",
    "                difficulty = len(soup.find_all('div', {'class': 'recipe-cardContainer ng-star-inserted'})[0].find_all('span', {'class': 'recipe-dot recipe-dotGreen ng-star-inserted'}))\n",
    "            except:\n",
    "                pass\n",
    "            dict1['type'] = html\n",
    "            dict1['name'] = name\n",
    "            dict1['prep'] = prep\n",
    "            dict1['cook'] = cook\n",
    "            dict1['img'] = img\n",
    "            dict1['url'] = url\n",
    "            dict1['difficulty'] = difficulty\n",
    "\n",
    "        except:\n",
    "            print('err')\n",
    "        all_recipes.append(dict1)"
   ]
  },
  {
   "cell_type": "code",
   "execution_count": 69,
   "metadata": {},
   "outputs": [],
   "source": [
    "import pandas as pd\n",
    "\n",
    "df = pd.DataFrame(all_recipes)\n",
    "df.to_csv('recipes.csv', index=None)"
   ]
  }
 ],
 "metadata": {
  "interpreter": {
   "hash": "75a300ae82dd7b8f387c1777b66b2ec8c7a5f6d51d6392630ee9b10fab7f95f8"
  },
  "kernelspec": {
   "display_name": "Python 3.9.0 64-bit",
   "language": "python",
   "name": "python3"
  },
  "language_info": {
   "codemirror_mode": {
    "name": "ipython",
    "version": 3
   },
   "file_extension": ".py",
   "mimetype": "text/x-python",
   "name": "python",
   "nbconvert_exporter": "python",
   "pygments_lexer": "ipython3",
   "version": "3.9.0"
  },
  "orig_nbformat": 4
 },
 "nbformat": 4,
 "nbformat_minor": 2
}
